{
 "cells": [
  {
   "cell_type": "code",
   "execution_count": 1,
   "metadata": {},
   "outputs": [
    {
     "name": "stdout",
     "output_type": "stream",
     "text": [
      "Downloading riiid-test-answer-prediction, 1386476890 bytes zipped\n",
      "[==================================================] 1386476890 bytes downloaded\n",
      "Unzipping riiid-test-answer-prediction\n",
      "Dataset import complete.\n"
     ]
    }
   ],
   "source": [
    "\n",
    "# IMPORTANT: RUN THIS CELL IN ORDER TO IMPORT YOUR KAGGLE DATASETS\n",
    "# TO THE CORRECT LOCATION (/kaggle/input) IN YOUR NOTEBOOK,\n",
    "# THEN FEEL FREE TO DELETE CELL.\n",
    "\n",
    "import os\n",
    "import sys\n",
    "from tempfile import NamedTemporaryFile\n",
    "from urllib.request import urlopen\n",
    "from urllib.parse import unquote\n",
    "from urllib.error import HTTPError\n",
    "from zipfile import ZipFile\n",
    "\n",
    "CHUNK_SIZE = 40960 \n",
    "DATASET_MAPPING = 'riiid-test-answer-prediction:https%3A%2F%2Fstorage.googleapis.com%2Fkaggle-competitions-data%2Fkaggle-v2%2F21651%2F1595136%2Fbundle%2Farchive.zip%3FX-Goog-Algorithm%3DGOOG4-RSA-SHA256%26X-Goog-Credential%3Dgcp-kaggle-com%2540kaggle-161607.iam.gserviceaccount.com%252F20201227%252Fauto%252Fstorage%252Fgoog4_request%26X-Goog-Date%3D20201227T210321Z%26X-Goog-Expires%3D259199%26X-Goog-SignedHeaders%3Dhost%26X-Goog-Signature%3D141dfd2ead959af802b269f08a97e096dac3ea9d2db70ad9047478df0432aa5115f01ca84f08d7079b8f95c4beb098ab30a4433fe531c4a987fcd3ee01a1a432676412f67ba666b7691d2345236530006a9e9348c5bd9efdb122831457f0b32ebe76adc2fdf1763d1067ef7647c53705fd002b546bed33a2325ed7d01c939fd519452cb286f41cc81d539c2e5bfe0e3f4efae0f8e0fe7a146f4a2cbd94e4bb1d9dfee1ba5e6357162a874be9862af23bb92af914c549e08fd393970ba8f725a4afc3f124720742deb52564ee9c3f29d8180771853c1b0f21db00d9bede834eedcd85f14cfe65bdba9c4f1c66f70c39c7169542ff1247b1e3ed87f6a6d9d13899'\n",
    "KAGGLE_INPUT_PATH='/home/kaggle/input'\n",
    "KAGGLE_INPUT_SYMLINK='/kaggle'\n",
    "\n",
    "os.makedirs(KAGGLE_INPUT_PATH, 777)\n",
    "os.symlink(KAGGLE_INPUT_PATH, os.path.join('..', 'input'), target_is_directory=True)\n",
    "os.makedirs(KAGGLE_INPUT_SYMLINK)\n",
    "os.symlink(KAGGLE_INPUT_PATH, os.path.join(KAGGLE_INPUT_SYMLINK, 'input'), target_is_directory=True)\n",
    "\n",
    "for dataset_mapping in DATASET_MAPPING.split(','):\n",
    "    directory, download_url_encoded = dataset_mapping.split(':')\n",
    "    download_url = unquote(download_url_encoded)\n",
    "    destination_path = os.path.join(KAGGLE_INPUT_PATH, directory)\n",
    "    try:\n",
    "        with urlopen(download_url) as zipfileres, NamedTemporaryFile() as tfile:\n",
    "            total_length = zipfileres.headers['content-length']\n",
    "            print(f'Downloading {directory}, {total_length} bytes zipped')\n",
    "            dl = 0\n",
    "            data = zipfileres.read(CHUNK_SIZE)\n",
    "            while len(data) > 0:\n",
    "                dl += len(data)\n",
    "                tfile.write(data)\n",
    "                done = int(50 * dl / int(total_length))\n",
    "                sys.stdout.write(f\"\\r[{'=' * done}{' ' * (50-done)}] {dl} bytes downloaded\")\n",
    "                sys.stdout.flush()\n",
    "                data = zipfileres.read(CHUNK_SIZE)\n",
    "            print(f'\\nUnzipping {directory}')\n",
    "            with ZipFile(tfile) as zfile:\n",
    "                zfile.extractall(destination_path)\n",
    "    except HTTPError as e:\n",
    "        print(f'Failed to load (likely expired) {download_url} to path {destination_path}')\n",
    "        continue\n",
    "    except OSError as e:\n",
    "        print(f'Failed to load {download_url} to path {destination_path}')\n",
    "        continue\n",
    "print('Dataset import complete.')\n"
   ]
  },
  {
   "cell_type": "code",
   "execution_count": 2,
   "metadata": {
    "_cell_guid": "b1076dfc-b9ad-4769-8c92-a6c4dae69d19",
    "_uuid": "8f2839f25d086af736a60e9eeb907d3b93b6e0e5"
   },
   "outputs": [
    {
     "name": "stdout",
     "output_type": "stream",
     "text": [
      "/kaggle/input/riiid-test-answer-prediction/lectures.csv\n",
      "/kaggle/input/riiid-test-answer-prediction/example_sample_submission.csv\n",
      "/kaggle/input/riiid-test-answer-prediction/questions.csv\n",
      "/kaggle/input/riiid-test-answer-prediction/train.csv\n",
      "/kaggle/input/riiid-test-answer-prediction/example_test.csv\n",
      "/kaggle/input/riiid-test-answer-prediction/riiideducation/__init__.py\n",
      "/kaggle/input/riiid-test-answer-prediction/riiideducation/competition.cpython-37m-x86_64-linux-gnu.so\n"
     ]
    }
   ],
   "source": [
    "# This Python 3 environment comes with many helpful analytics libraries installed\n",
    "# It is defined by the kaggle/python Docker image: https://github.com/kaggle/docker-python\n",
    "# For example, here's several helpful packages to load\n",
    "\n",
    "import numpy as np # linear algebra\n",
    "import pandas as pd # data processing, CSV file I/O (e.g. pd.read_csv)\n",
    "\n",
    "# Input data files are available in the read-only \"../input/\" directory\n",
    "# For example, running this (by clicking run or pressing Shift+Enter) will list all files under the input directory\n",
    "\n",
    "import os\n",
    "for dirname, _, filenames in os.walk('/kaggle/input'):\n",
    "    for filename in filenames:\n",
    "        print(os.path.join(dirname, filename))\n",
    "\n",
    "# You can write up to 20GB to the current directory (/kaggle/working/) that gets preserved as output when you create a version using \"Save & Run All\" \n",
    "# You can also write temporary files to /kaggle/temp/, but they won't be saved outside of the current session"
   ]
  },
  {
   "cell_type": "code",
   "execution_count": 3,
   "metadata": {
    "_cell_guid": "79c7e3d0-c299-4dcb-8224-4455121ee9b0",
    "_uuid": "d629ff2d2480ee46fbb7e2d37f6b5fab8052498a"
   },
   "outputs": [
    {
     "data": {
      "text/html": [
       "<style type='text/css'>\n",
       ".datatable table.frame { margin-bottom: 0; }\n",
       ".datatable table.frame thead { border-bottom: none; }\n",
       ".datatable table.frame tr.coltypes td {  color: #FFFFFF;  line-height: 6px;  padding: 0 0.5em;}\n",
       ".datatable .bool    { background: #DDDD99; }\n",
       ".datatable .object  { background: #565656; }\n",
       ".datatable .int     { background: #5D9E5D; }\n",
       ".datatable .float   { background: #4040CC; }\n",
       ".datatable .str     { background: #CC4040; }\n",
       ".datatable .row_index {  background: var(--jp-border-color3);  border-right: 1px solid var(--jp-border-color0);  color: var(--jp-ui-font-color3);  font-size: 9px;}\n",
       ".datatable .frame tr.coltypes .row_index {  background: var(--jp-border-color0);}\n",
       ".datatable th:nth-child(2) { padding-left: 12px; }\n",
       ".datatable .hellipsis {  color: var(--jp-cell-editor-border-color);}\n",
       ".datatable .vellipsis {  background: var(--jp-layout-color0);  color: var(--jp-cell-editor-border-color);}\n",
       ".datatable .na {  color: var(--jp-cell-editor-border-color);  font-size: 80%;}\n",
       ".datatable .footer { font-size: 9px; }\n",
       ".datatable .frame_dimensions {  background: var(--jp-border-color3);  border-top: 1px solid var(--jp-border-color0);  color: var(--jp-ui-font-color3);  display: inline-block;  opacity: 0.6;  padding: 1px 10px 1px 5px;}\n",
       ".datatable .frame thead tr.colnames {  background-image: url('data:image/png;base64,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');  background-repeat: repeat-x;  background-size: 14px;  height: 28px;}\n",
       "</style>\n"
      ],
      "text/plain": [
       "<IPython.core.display.HTML object>"
      ]
     },
     "metadata": {},
     "output_type": "display_data"
    }
   ],
   "source": [
    "#lod required packages\n",
    "import lightgbm as lgb\n",
    "import sklearn\n",
    "import seaborn as sns\n",
    "import gc\n",
    "from sklearn.model_selection import train_test_split\n",
    "from sklearn.model_selection import cross_val_score\n",
    "from sklearn.model_selection import GridSearchCV\n",
    "from sklearn.preprocessing import StandardScaler\n",
    "from sklearn.pipeline import Pipeline\n",
    "from sklearn.linear_model import LinearRegression\n",
    "from sklearn.linear_model import Ridge\n",
    "from sklearn.linear_model import Lasso\n",
    "from sklearn.linear_model import ElasticNet\n",
    "from sklearn.tree import DecisionTreeRegressor\n",
    "from sklearn.ensemble import RandomForestRegressor\n",
    "from sklearn.ensemble import GradientBoostingRegressor\n",
    "from sklearn.svm import SVR\n",
    "from sklearn.metrics import mean_squared_error\n",
    "import numpy as np\n",
    "from sklearn import metrics\n",
    "from sklearn.metrics import roc_auc_score, roc_curve, auc\n",
    "from sklearn.metrics import precision_recall_curve, average_precision_score\n",
    "from sklearn import preprocessing\n",
    "import numpy as np\n",
    "from sklearn.impute import SimpleImputer\n",
    "from collections import Counter\n",
    "\n"
   ]
  },
  {
   "cell_type": "code",
   "execution_count": 28,
   "metadata": {},
   "outputs": [],
   "source": [
    "traindf = pd.read_csv(\"/kaggle/input/riiid-test-answer-prediction/train.csv\")\n",
    "traindf = traindf[(traindf['user_id']<400000000)]\n"
   ]
  },
  {
   "cell_type": "code",
   "execution_count": 29,
   "metadata": {},
   "outputs": [],
   "source": [
    "trainA = traindf[[\"content_id\",\"answered_correctly\"]].groupby(\"content_id\").mean()\n",
    "trainA = trainA.rename(columns={'answered_correctly':'average_correct_content'})"
   ]
  },
  {
   "cell_type": "code",
   "execution_count": 30,
   "metadata": {},
   "outputs": [],
   "source": [
    "trainB = traindf[[\"user_id\",\"answered_correctly\"]].groupby(\"user_id\").mean()\n",
    "trainB = trainB.rename(columns={'answered_correctly':'average_correct_user_id'})\n",
    "trainC = traindf[[\"user_id\",\"answered_correctly\"]].groupby(\"user_id\").sum()\n",
    "trainC = trainC.rename(columns={'answered_correctly':'Total_correct_user_id'})"
   ]
  },
  {
   "cell_type": "code",
   "execution_count": 31,
   "metadata": {},
   "outputs": [],
   "source": [
    "traindf[\"AnsweredInARow\"]=traindf[[\"row_id\",\"user_id\",\"answered_correctly\"]].groupby([\"user_id\",(traindf['answered_correctly']==0).cumsum()]).cumcount()-1"
   ]
  },
  {
   "cell_type": "code",
   "execution_count": 32,
   "metadata": {},
   "outputs": [],
   "source": [
    "traindf[\"AnsweredInARow\"]=np.where(traindf['AnsweredInARow']== -1,0,traindf[\"AnsweredInARow\"])"
   ]
  },
  {
   "cell_type": "code",
   "execution_count": 33,
   "metadata": {},
   "outputs": [
    {
     "name": "stdout",
     "output_type": "stream",
     "text": [
      "<class 'pandas.core.frame.DataFrame'>\n",
      "Int64Index: 13768 entries, 0 to 32736\n",
      "Data columns (total 1 columns):\n",
      " #   Column                   Non-Null Count  Dtype  \n",
      "---  ------                   --------------  -----  \n",
      " 0   average_correct_content  13768 non-null  float64\n",
      "dtypes: float64(1)\n",
      "memory usage: 215.1 KB\n"
     ]
    }
   ],
   "source": [
    "trainA['average_correct_content'] = np.where(trainA['average_correct_content']<0,0,trainA['average_correct_content'])\n",
    "trainA.info()"
   ]
  },
  {
   "cell_type": "code",
   "execution_count": 34,
   "metadata": {},
   "outputs": [],
   "source": [
    "#join the features\n",
    "traindf = traindf.merge(trainA, on =\"content_id\", how=\"left\")"
   ]
  },
  {
   "cell_type": "code",
   "execution_count": 35,
   "metadata": {},
   "outputs": [],
   "source": [
    "traindf = traindf.merge(trainB, on=\"user_id\", how=\"left\")\n",
    "traindf = traindf.merge(trainC, on=\"user_id\", how=\"left\")"
   ]
  },
  {
   "cell_type": "code",
   "execution_count": 36,
   "metadata": {},
   "outputs": [],
   "source": [
    "trainD = traindf[['user_id','row_id','timestamp','prior_question_elapsed_time']]"
   ]
  },
  {
   "cell_type": "code",
   "execution_count": 37,
   "metadata": {},
   "outputs": [],
   "source": [
    "trainD = trainD.sort_values(['user_id','timestamp'])"
   ]
  },
  {
   "cell_type": "code",
   "execution_count": 38,
   "metadata": {},
   "outputs": [],
   "source": [
    "trainD['timebetween'] = trainD.groupby('user_id')['timestamp'].diff()\n",
    "trainD['lag'] = trainD['timebetween']-trainD['prior_question_elapsed_time']\n",
    "traindf = traindf.sort_values(['row_id'])"
   ]
  },
  {
   "cell_type": "code",
   "execution_count": 39,
   "metadata": {},
   "outputs": [
    {
     "data": {
      "text/plain": [
       "22"
      ]
     },
     "execution_count": 39,
     "metadata": {},
     "output_type": "execute_result"
    }
   ],
   "source": [
    "del (trainA,trainB,trainC) # clear some mem\n",
    "gc.collect()"
   ]
  },
  {
   "cell_type": "code",
   "execution_count": 40,
   "metadata": {},
   "outputs": [],
   "source": [
    "traindf = traindf.merge(trainD[['row_id','timebetween','lag']],on='row_id',how='left')"
   ]
  },
  {
   "cell_type": "code",
   "execution_count": 41,
   "metadata": {},
   "outputs": [
    {
     "name": "stdout",
     "output_type": "stream",
     "text": [
      "<class 'pandas.core.frame.DataFrame'>\n",
      "Int64Index: 18604119 entries, 0 to 18604118\n",
      "Data columns (total 16 columns):\n",
      " #   Column                          Dtype  \n",
      "---  ------                          -----  \n",
      " 0   row_id                          int64  \n",
      " 1   timestamp                       int64  \n",
      " 2   user_id                         int64  \n",
      " 3   content_id                      int64  \n",
      " 4   content_type_id                 int64  \n",
      " 5   task_container_id               int64  \n",
      " 6   user_answer                     int64  \n",
      " 7   answered_correctly              int64  \n",
      " 8   prior_question_elapsed_time     float64\n",
      " 9   prior_question_had_explanation  object \n",
      " 10  AnsweredInARow                  int64  \n",
      " 11  average_correct_content         float64\n",
      " 12  average_correct_user_id         float64\n",
      " 13  Total_correct_user_id           int64  \n",
      " 14  timebetween                     float64\n",
      " 15  lag                             float64\n",
      "dtypes: float64(5), int64(10), object(1)\n",
      "memory usage: 2.4+ GB\n"
     ]
    }
   ],
   "source": [
    "trainE = traindf[['user_id','user_answer']].groupby(['user_id','user_answer'])['user_answer'].count()\n",
    "trainE=trainE.to_frame()\n",
    "trainE['user_answer_count'] = trainE['user_answer']\n",
    "trainE = trainE.drop(['user_answer'], axis=1)\n",
    "trainE =trainE.reset_index()\n",
    "traindf.info()"
   ]
  },
  {
   "cell_type": "code",
   "execution_count": 42,
   "metadata": {},
   "outputs": [],
   "source": [
    "dummie  = trainE.pivot(index='user_id', columns ='user_answer', values ='user_answer_count')\n",
    "dummie=dummie.reset_index()\n",
    "dummie=dummie.rename(columns = {-1:\"User_answer_-1\", 0:\"User_answer_0\", 1:\"User_answer_1\",2:\"User_answer_2\",3:\"User_answer_3\"})\n",
    "dummie=dummie.fillna(0)\n",
    "dummie['total'] = dummie['User_answer_-1']+dummie['User_answer_0']+dummie['User_answer_1']+dummie['User_answer_2']+dummie['User_answer_2']+dummie['User_answer_3']\n",
    "\n",
    "for col in dummie.columns[1:6]:\n",
    "    dummie[col] = dummie[col]/dummie['total']*100\n",
    "    dummie[col] = dummie[col].round(1)\n",
    "    \n",
    "dummie=dummie.drop(['total'], axis=1)\n",
    "# df_dummies = pd.get_dummies(trainE, columns =['user_answer'])\n",
    "\n",
    "# for col in df_dummies.columns[3:]:\n",
    "#     df_dummies[col] = df_dummies[col]*df_dummies['user_answer_count']"
   ]
  },
  {
   "cell_type": "code",
   "execution_count": 43,
   "metadata": {},
   "outputs": [
    {
     "data": {
      "text/html": [
       "<div>\n",
       "<style scoped>\n",
       "    .dataframe tbody tr th:only-of-type {\n",
       "        vertical-align: middle;\n",
       "    }\n",
       "\n",
       "    .dataframe tbody tr th {\n",
       "        vertical-align: top;\n",
       "    }\n",
       "\n",
       "    .dataframe thead th {\n",
       "        text-align: right;\n",
       "    }\n",
       "</style>\n",
       "<table border=\"1\" class=\"dataframe\">\n",
       "  <thead>\n",
       "    <tr style=\"text-align: right;\">\n",
       "      <th>user_answer</th>\n",
       "      <th>user_id</th>\n",
       "      <th>User_answer_-1</th>\n",
       "      <th>User_answer_0</th>\n",
       "      <th>User_answer_1</th>\n",
       "      <th>User_answer_2</th>\n",
       "      <th>User_answer_3</th>\n",
       "    </tr>\n",
       "  </thead>\n",
       "  <tbody>\n",
       "    <tr>\n",
       "      <th>0</th>\n",
       "      <td>115</td>\n",
       "      <td>0.0</td>\n",
       "      <td>19.3</td>\n",
       "      <td>19.3</td>\n",
       "      <td>19.3</td>\n",
       "      <td>22.8</td>\n",
       "    </tr>\n",
       "    <tr>\n",
       "      <th>1</th>\n",
       "      <td>124</td>\n",
       "      <td>0.0</td>\n",
       "      <td>18.4</td>\n",
       "      <td>15.8</td>\n",
       "      <td>21.1</td>\n",
       "      <td>23.7</td>\n",
       "    </tr>\n",
       "    <tr>\n",
       "      <th>2</th>\n",
       "      <td>2746</td>\n",
       "      <td>5.0</td>\n",
       "      <td>35.0</td>\n",
       "      <td>10.0</td>\n",
       "      <td>0.0</td>\n",
       "      <td>50.0</td>\n",
       "    </tr>\n",
       "    <tr>\n",
       "      <th>3</th>\n",
       "      <td>5382</td>\n",
       "      <td>2.1</td>\n",
       "      <td>27.1</td>\n",
       "      <td>24.3</td>\n",
       "      <td>11.1</td>\n",
       "      <td>24.3</td>\n",
       "    </tr>\n",
       "    <tr>\n",
       "      <th>4</th>\n",
       "      <td>8623</td>\n",
       "      <td>2.4</td>\n",
       "      <td>26.8</td>\n",
       "      <td>22.8</td>\n",
       "      <td>11.8</td>\n",
       "      <td>24.4</td>\n",
       "    </tr>\n",
       "  </tbody>\n",
       "</table>\n",
       "</div>"
      ],
      "text/plain": [
       "user_answer  user_id  User_answer_-1  User_answer_0  User_answer_1  \\\n",
       "0                115             0.0           19.3           19.3   \n",
       "1                124             0.0           18.4           15.8   \n",
       "2               2746             5.0           35.0           10.0   \n",
       "3               5382             2.1           27.1           24.3   \n",
       "4               8623             2.4           26.8           22.8   \n",
       "\n",
       "user_answer  User_answer_2  User_answer_3  \n",
       "0                     19.3           22.8  \n",
       "1                     21.1           23.7  \n",
       "2                      0.0           50.0  \n",
       "3                     11.1           24.3  \n",
       "4                     11.8           24.4  "
      ]
     },
     "execution_count": 43,
     "metadata": {},
     "output_type": "execute_result"
    }
   ],
   "source": [
    "dummie.head()\n"
   ]
  },
  {
   "cell_type": "code",
   "execution_count": 44,
   "metadata": {},
   "outputs": [],
   "source": [
    "traindf=traindf.merge(dummie,on=['user_id'], how='left')\n",
    "# remove answered correctly =-1 or your metrics won't work\n",
    "traindf['answered_correctly'] = np.where(traindf['answered_correctly']<0,0,traindf['answered_correctly'])\n",
    "#remove nan's from data frame\n",
    "#traindf=traindf.dropna() # do not drop na, at least for lightgbm as it can handle them.. e.g. na's could become break points\n",
    "#make prior question had explination a category in integer form\n",
    "#traindf['prior_question_had_explanation'] = np.where(traindf['prior_question_had_explanation']=='True',1,0)-this did not add value to model, removing \n"
   ]
  },
  {
   "cell_type": "code",
   "execution_count": 45,
   "metadata": {},
   "outputs": [
    {
     "name": "stdout",
     "output_type": "stream",
     "text": [
      "<class 'pandas.core.frame.DataFrame'>\n",
      "RangeIndex: 418 entries, 0 to 417\n",
      "Data columns (total 8 columns):\n",
      " #   Column            Non-Null Count  Dtype \n",
      "---  ------            --------------  ----- \n",
      " 0   content_id        418 non-null    int64 \n",
      " 1   tag               418 non-null    int64 \n",
      " 2   part              418 non-null    int64 \n",
      " 3   type_of           418 non-null    object\n",
      " 4   concept           418 non-null    uint8 \n",
      " 5   intention         418 non-null    uint8 \n",
      " 6   solving question  418 non-null    uint8 \n",
      " 7   starter           418 non-null    uint8 \n",
      "dtypes: int64(3), object(1), uint8(4)\n",
      "memory usage: 14.8+ KB\n"
     ]
    }
   ],
   "source": [
    "#pull in lecture data\n",
    "lecture = pd.read_csv('/kaggle/input/riiid-test-answer-prediction/lectures.csv')\n",
    "lecture=lecture.rename(columns={'lecture_id':'content_id'})\n",
    "dummy = pd.get_dummies(lecture['type_of'])\n",
    "lecture = pd.concat([lecture,dummy], axis=1)\n",
    "lecture.info()"
   ]
  },
  {
   "cell_type": "code",
   "execution_count": 46,
   "metadata": {},
   "outputs": [],
   "source": [
    "traindf = traindf.merge(lecture, on=\"content_id\", how='left')"
   ]
  },
  {
   "cell_type": "code",
   "execution_count": 47,
   "metadata": {},
   "outputs": [
    {
     "name": "stdout",
     "output_type": "stream",
     "text": [
      "<class 'pandas.core.frame.DataFrame'>\n",
      "Int64Index: 18604119 entries, 0 to 18604118\n",
      "Data columns (total 28 columns):\n",
      " #   Column                          Dtype  \n",
      "---  ------                          -----  \n",
      " 0   row_id                          int64  \n",
      " 1   timestamp                       int64  \n",
      " 2   user_id                         int64  \n",
      " 3   content_id                      int64  \n",
      " 4   content_type_id                 int64  \n",
      " 5   task_container_id               int64  \n",
      " 6   user_answer                     int64  \n",
      " 7   answered_correctly              int64  \n",
      " 8   prior_question_elapsed_time     float64\n",
      " 9   prior_question_had_explanation  object \n",
      " 10  AnsweredInARow                  int64  \n",
      " 11  average_correct_content         float64\n",
      " 12  average_correct_user_id         float64\n",
      " 13  Total_correct_user_id           int64  \n",
      " 14  timebetween                     float64\n",
      " 15  lag                             float64\n",
      " 16  User_answer_-1                  float64\n",
      " 17  User_answer_0                   float64\n",
      " 18  User_answer_1                   float64\n",
      " 19  User_answer_2                   float64\n",
      " 20  User_answer_3                   float64\n",
      " 21  tag                             float64\n",
      " 22  part                            float64\n",
      " 23  type_of                         object \n",
      " 24  concept                         float64\n",
      " 25  intention                       float64\n",
      " 26  solving question                float64\n",
      " 27  starter                         float64\n",
      "dtypes: float64(16), int64(10), object(2)\n",
      "memory usage: 4.0+ GB\n"
     ]
    }
   ],
   "source": [
    "traindf.info()"
   ]
  },
  {
   "cell_type": "code",
   "execution_count": 48,
   "metadata": {},
   "outputs": [],
   "source": [
    "# #train lightgbm\n",
    "TrainX = traindf.drop([\"answered_correctly\"], axis=1)\n",
    "TrainY = traindf['answered_correctly']\n",
    "del(traindf)\n",
    "gc.collect()\n",
    "import random\n",
    "random.seed(100)\n",
    "(X_train, X_test, y_train, y_test) = train_test_split(TrainX, TrainY) #create␣train and test set"
   ]
  },
  {
   "cell_type": "code",
   "execution_count": 49,
   "metadata": {},
   "outputs": [],
   "source": [
    "# choose the variables needed\n",
    "X_train = X_train.drop(['Total_correct_user_id','content_id','type_of','user_answer','prior_question_had_explanation','task_container_id','content_type_id','row_id','timestamp','user_id','part','tag'],axis=1)\n",
    "X_test = X_test.drop(['Total_correct_user_id','content_id','type_of','user_answer','prior_question_had_explanation','task_container_id','content_type_id','row_id','timestamp','user_id','part','tag'],axis=1)"
   ]
  },
  {
   "cell_type": "code",
   "execution_count": 50,
   "metadata": {},
   "outputs": [
    {
     "name": "stdout",
     "output_type": "stream",
     "text": [
      "<class 'pandas.core.frame.DataFrame'>\n",
      "Int64Index: 13953089 entries, 9056571 to 3051376\n",
      "Data columns (total 15 columns):\n",
      " #   Column                       Dtype  \n",
      "---  ------                       -----  \n",
      " 0   prior_question_elapsed_time  float64\n",
      " 1   AnsweredInARow               int64  \n",
      " 2   average_correct_content      float64\n",
      " 3   average_correct_user_id      float64\n",
      " 4   timebetween                  float64\n",
      " 5   lag                          float64\n",
      " 6   User_answer_-1               float64\n",
      " 7   User_answer_0                float64\n",
      " 8   User_answer_1                float64\n",
      " 9   User_answer_2                float64\n",
      " 10  User_answer_3                float64\n",
      " 11  concept                      float64\n",
      " 12  intention                    float64\n",
      " 13  solving question             float64\n",
      " 14  starter                      float64\n",
      "dtypes: float64(14), int64(1)\n",
      "memory usage: 1.7 GB\n"
     ]
    }
   ],
   "source": [
    "X_train.info()"
   ]
  },
  {
   "cell_type": "code",
   "execution_count": 51,
   "metadata": {},
   "outputs": [],
   "source": [
    "train_lgb = lgb.Dataset(X_train, label=y_train)\n",
    "train_validation = lgb.Dataset(X_test, label=y_test)\n",
    "num111=len(y_train) # number of rows\n",
    "w = np.random.rand(num111,)\n",
    "train_lgb.set_weight(w)\n",
    "param = params = {'boosting_type': 'goss',\n",
    "          'max_depth' :-1,\n",
    "          'objective': 'binary',\n",
    "          'nthread': 5,\n",
    "          'num_leaves': 60,\n",
    "          'learning_rate': 0.02,\n",
    "          'max_bin': 512,\n",
    "          'subsample_for_bin': 200,\n",
    "          'subsample': 1,\n",
    "          'subsample_freq': 1,\n",
    "          'colsample_bytree': 0.8,\n",
    "          'reg_alpha': 1.2,\n",
    "          'reg_lambda': 1.2,\n",
    "          'min_split_gain': 0.5,\n",
    "          'min_child_weight': 1,\n",
    "          'min_child_samples': 30,\n",
    "          'scale_pos_weight': 1,\n",
    "          'num_class' : 1,\n",
    "          'metric' : 'auc'\n",
    "          }\n"
   ]
  },
  {
   "cell_type": "code",
   "execution_count": 52,
   "metadata": {},
   "outputs": [
    {
     "name": "stdout",
     "output_type": "stream",
     "text": [
      "[4]\ttraining's auc: 0.915256\n",
      "[8]\ttraining's auc: 0.918985\n",
      "[12]\ttraining's auc: 0.919952\n",
      "[16]\ttraining's auc: 0.920191\n",
      "[20]\ttraining's auc: 0.920253\n",
      "[24]\ttraining's auc: 0.920251\n",
      "[28]\ttraining's auc: 0.920363\n",
      "[32]\ttraining's auc: 0.920468\n",
      "[36]\ttraining's auc: 0.920509\n",
      "[40]\ttraining's auc: 0.92055\n",
      "[44]\ttraining's auc: 0.920663\n",
      "[48]\ttraining's auc: 0.920696\n",
      "[52]\ttraining's auc: 0.920716\n",
      "[56]\ttraining's auc: 0.920743\n",
      "[60]\ttraining's auc: 0.920781\n",
      "[64]\ttraining's auc: 0.920794\n",
      "[68]\ttraining's auc: 0.920831\n",
      "[72]\ttraining's auc: 0.920868\n",
      "[76]\ttraining's auc: 0.920975\n",
      "[80]\ttraining's auc: 0.920992\n",
      "[84]\ttraining's auc: 0.921036\n",
      "[88]\ttraining's auc: 0.92108\n",
      "[92]\ttraining's auc: 0.921129\n",
      "[96]\ttraining's auc: 0.921176\n",
      "[100]\ttraining's auc: 0.921213\n",
      "[104]\ttraining's auc: 0.921247\n",
      "[108]\ttraining's auc: 0.9213\n",
      "[112]\ttraining's auc: 0.921345\n",
      "[116]\ttraining's auc: 0.921377\n",
      "[120]\ttraining's auc: 0.921423\n",
      "[124]\ttraining's auc: 0.921444\n"
     ]
    },
    {
     "data": {
      "image/png": "[encoded data removed]",
      "text/plain": [
       "<Figure size 432x288 with 1 Axes>"
      ]
     },
     "metadata": {
      "needs_background": "light"
     },
     "output_type": "display_data"
    }
   ],
   "source": [
    "#run model\n",
    "model = lgb.train(param,train_lgb, 124, verbose_eval=4,valid_sets=[train_lgb])\n",
    "tree_imp = lgb.plot_importance(model)\n",
    "y_pred = model.predict(X_train, num_iteration=model.best_iteration)\n",
    "y_pred = np.round_(y_pred, 0)"
   ]
  },
  {
   "cell_type": "code",
   "execution_count": 53,
   "metadata": {},
   "outputs": [
    {
     "data": {
      "text/plain": [
       "array([1., 1., 1., 1., 1., 1., 1., 0., 1., 0., 1., 1., 1., 1., 1., 1., 1.,\n",
       "       1., 0., 0., 0., 1., 0., 1., 1., 1., 1., 1., 1., 1., 1., 1., 0., 1.,\n",
       "       1., 1., 1., 1., 1., 0., 0., 1., 1., 1., 1., 1., 1., 1., 0.])"
      ]
     },
     "execution_count": 53,
     "metadata": {},
     "output_type": "execute_result"
    }
   ],
   "source": [
    "y_pred1 = model.predict(X_test, num_iteration=model.best_iteration)\n",
    "y_pred1 = np.round_(y_pred1,0)\n",
    "y_pred1[1:50]"
   ]
  },
  {
   "cell_type": "code",
   "execution_count": 68,
   "metadata": {},
   "outputs": [],
   "source": [
    "from collections import Counter\n",
    "Counter(y_train)\n",
    "\n"
   ]
  },
  {
   "cell_type": "code",
   "execution_count": 55,
   "metadata": {},
   "outputs": [
    {
     "data": {
      "text/plain": [
       "0.846417659264863"
      ]
     },
     "execution_count": 55,
     "metadata": {},
     "output_type": "execute_result"
    }
   ],
   "source": [
    "y = np.array(y_test)\n",
    "pred = np.array(y_pred1)\n",
    "fpr, tpr, thresholds = metrics.roc_curve(y, pred, pos_label=1)\n",
    "metrics.auc(fpr, tpr)"
   ]
  },
  {
   "cell_type": "code",
   "execution_count": 69,
   "metadata": {},
   "outputs": [],
   "source": [
    "#prep for logistic and SVM\n",
    "names = ['concept','intention','solving question','starter']\n",
    "\n",
    "for i in names:#make sure categorical varibles give 1 if instance is known otherwise 0 if neg or unknown\n",
    "    X_train[i] = X_train[i].fillna(0)\n",
    "    X_test[i]  = X_test[i].fillna(0)\n",
    "    \n",
    "X_test = X_test.fillna(X_test.mean()) # deal with na's to fit in logistic regression\n",
    "X_train = X_train.fillna(X_train.mean()) # deal with na's to fit in logistic regression"
   ]
  },
  {
   "cell_type": "code",
   "execution_count": 70,
   "metadata": {},
   "outputs": [
    {
     "name": "stdout",
     "output_type": "stream",
     "text": [
      "Optimization terminated successfully.\n",
      "         Current function value: 0.379682\n",
      "         Iterations 10\n",
      "                               Results: Logit\n",
      "=============================================================================\n",
      "Model:                 Logit                Pseudo R-squared:   0.416        \n",
      "Dependent Variable:    answered_correctly   AIC:                10595476.8939\n",
      "Date:                  2020-12-25 20:46     BIC:                10595592.5036\n",
      "No. Observations:      13953089             Log-Likelihood:     -5.2977e+06  \n",
      "Df Model:              7                    LL-Null:            -9.0767e+06  \n",
      "Df Residuals:          13953081             LLR p-value:        0.0000       \n",
      "Converged:             1.0000               Scale:              1.0000       \n",
      "No. Iterations:        10.0000                                               \n",
      "-----------------------------------------------------------------------------\n",
      "                             Coef.  Std.Err.     z     P>|z|   [0.025  0.975]\n",
      "-----------------------------------------------------------------------------\n",
      "prior_question_elapsed_time  0.0000   0.0000   95.5517 0.0000  0.0000  0.0000\n",
      "AnsweredInARow               1.9577   0.0017 1121.3852 0.0000  1.9542  1.9611\n",
      "average_correct_content      4.5086   0.0047  954.5635 0.0000  4.4993  4.5179\n",
      "average_correct_user_id      1.7240   0.0068  253.4578 0.0000  1.7107  1.7373\n",
      "timebetween                 -0.0000   0.0000  -12.0339 0.0000 -0.0000 -0.0000\n",
      "lag                          0.0000   0.0000   11.9833 0.0000  0.0000  0.0000\n",
      "User_answer_-1              -0.0765   0.0006 -129.3093 0.0000 -0.0777 -0.0754\n",
      "User_answer_0               -0.0411   0.0002 -210.4430 0.0000 -0.0415 -0.0407\n",
      "User_answer_1               -0.0510   0.0002 -275.1545 0.0000 -0.0514 -0.0507\n",
      "User_answer_2               -0.0715   0.0002 -365.0738 0.0000 -0.0718 -0.0711\n",
      "User_answer_3               -0.0463   0.0002 -219.4234 0.0000 -0.0467 -0.0459\n",
      "concept                     -2.5846   0.0098 -263.1158 0.0000 -2.6039 -2.5654\n",
      "intention                   -3.3535   0.0441  -76.1231 0.0000 -3.4398 -3.2671\n",
      "solving question            -1.5955   0.0115 -138.9175 0.0000 -1.6180 -1.5730\n",
      "starter                     -0.1925   0.0952   -2.0210 0.0433 -0.3791 -0.0058\n",
      "=============================================================================\n",
      "\n"
     ]
    }
   ],
   "source": [
    "#third model decision by comittee, logistic regression\n",
    "from sklearn.linear_model import LogisticRegression\n",
    "import statsmodels.api as sm\n",
    "logit_model = sm.Logit(y_train,X_train)\n",
    "result=logit_model.fit()\n",
    "print(result.summary2())"
   ]
  },
  {
   "cell_type": "code",
   "execution_count": 71,
   "metadata": {},
   "outputs": [],
   "source": [
    "predlogreg=result.predict(X_test)\n",
    "y_predlog = np.round_(predlogreg, 0)"
   ]
  },
  {
   "cell_type": "code",
   "execution_count": 72,
   "metadata": {},
   "outputs": [
    {
     "data": {
      "text/plain": [
       "0.8143211005124248"
      ]
     },
     "execution_count": 72,
     "metadata": {},
     "output_type": "execute_result"
    }
   ],
   "source": [
    "y = np.array(y_test)\n",
    "pred = np.array(y_predlog)\n",
    "fpr, tpr, thresholds = metrics.roc_curve(y, pred, pos_label=1)\n",
    "metrics.auc(fpr, tpr)"
   ]
  },
  {
   "cell_type": "code",
   "execution_count": 61,
   "metadata": {},
   "outputs": [],
   "source": [
    "#--for future analysis if time allows--\n",
    "# grid = GridSearchCV(model, gridParams, verbose=2, cv=4, n_jobs=-1)\n",
    "# # Run the grid\n",
    "# grid.fit(X_train.drop(['user_answer','prior_question_had_explanation','task_container_id','content_id','content_type_id','row_id','timestamp','user_id'],axis=1), y_train)\n",
    "# print(grid.best_params_)\n",
    "# print(grid.best_score_)"
   ]
  },
  {
   "cell_type": "code",
   "execution_count": null,
   "metadata": {},
   "outputs": [],
   "source": [
    "#--for future analysis if time allows\n",
    "# params['colsample_bytree'] = grid.best_params_['colsample_bytree']\n",
    "# params['learning_rate'] = grid.best_params_['learning_rate']\n",
    "# # params['max_bin'] = grid.best_params_['max_bin']\n",
    "# params['num_leaves'] = grid.best_params_['num_leaves']\n",
    "# #params['reg_alpha'] = grid.best_params_['reg_alpha']\n",
    "# #params['reg_lambda'] = grid.best_params_['reg_lambda']\n",
    "# params['subsample'] = grid.best_params_['subsample']\n",
    "# # params['subsample_for_bin'] = grid.best_params_['subsample_for_bin']\n",
    "\n",
    "# print('Fitting with params: ')\n",
    "# print(params)"
   ]
  },
  {
   "cell_type": "code",
   "execution_count": 73,
   "metadata": {},
   "outputs": [],
   "source": [
    "from sklearn import svm"
   ]
  },
  {
   "cell_type": "code",
   "execution_count": 74,
   "metadata": {},
   "outputs": [],
   "source": [
    "import numpy as np\n",
    "from sklearn.impute import SimpleImputer"
   ]
  },
  {
   "cell_type": "code",
   "execution_count": 75,
   "metadata": {},
   "outputs": [],
   "source": [
    "from sklearn.preprocessing import MinMaxScaler # reduce boundry space spare the machine\n",
    "scaling = MinMaxScaler()\n",
    "X_train = scaling.fit_transform(X_train)\n",
    "X_test = scaling.fit_transform(X_test)"
   ]
  },
  {
   "cell_type": "code",
   "execution_count": 76,
   "metadata": {},
   "outputs": [],
   "source": [
    "X_train = pd.DataFrame(X_train)\n",
    "X_test = pd.DataFrame(X_test)"
   ]
  },
  {
   "cell_type": "code",
   "execution_count": 77,
   "metadata": {},
   "outputs": [
    {
     "name": "stdout",
     "output_type": "stream",
     "text": [
      "<class 'pandas.core.frame.DataFrame'>\n",
      "RangeIndex: 13953089 entries, 0 to 13953088\n",
      "Data columns (total 15 columns):\n",
      " #   Column  Dtype  \n",
      "---  ------  -----  \n",
      " 0   0       float64\n",
      " 1   1       float64\n",
      " 2   2       float64\n",
      " 3   3       float64\n",
      " 4   4       float64\n",
      " 5   5       float64\n",
      " 6   6       float64\n",
      " 7   7       float64\n",
      " 8   8       float64\n",
      " 9   9       float64\n",
      " 10  10      float64\n",
      " 11  11      float64\n",
      " 12  12      float64\n",
      " 13  13      float64\n",
      " 14  14      float64\n",
      "dtypes: float64(15)\n",
      "memory usage: 1.6 GB\n"
     ]
    }
   ],
   "source": [
    "X_train.info()"
   ]
  },
  {
   "cell_type": "code",
   "execution_count": 78,
   "metadata": {},
   "outputs": [
    {
     "data": {
      "text/plain": [
       "LinearSVC()"
      ]
     },
     "execution_count": 78,
     "metadata": {},
     "output_type": "execute_result"
    }
   ],
   "source": [
    "from sklearn.svm import LinearSVC\n",
    "clf = LinearSVC()\n",
    "clf.fit(X_train, y_train)"
   ]
  },
  {
   "cell_type": "code",
   "execution_count": 79,
   "metadata": {},
   "outputs": [],
   "source": [
    "y_pred2=clf.predict(X_test)"
   ]
  },
  {
   "cell_type": "code",
   "execution_count": 80,
   "metadata": {},
   "outputs": [
    {
     "data": {
      "text/plain": [
       "array([1, 1, 1, 1, 1, 1, 1, 0, 1, 0, 1, 1, 1, 1, 1, 1, 1, 1, 0, 0, 1, 1,\n",
       "       0, 1, 1, 1, 1, 1, 1, 1, 1, 1, 0, 1, 1, 1, 0, 1, 1, 0, 0, 0, 1, 1,\n",
       "       1, 1, 1, 1, 1], dtype=int64)"
      ]
     },
     "execution_count": 80,
     "metadata": {},
     "output_type": "execute_result"
    }
   ],
   "source": [
    "y_pred2[1:50]"
   ]
  },
  {
   "cell_type": "code",
   "execution_count": 81,
   "metadata": {},
   "outputs": [
    {
     "data": {
      "text/plain": [
       "0.7919527322177152"
      ]
     },
     "execution_count": 81,
     "metadata": {},
     "output_type": "execute_result"
    }
   ],
   "source": [
    "y = np.array(y_test)\n",
    "pred = np.array(y_pred2)\n",
    "fpr, tpr, thresholds = metrics.roc_curve(y, pred, pos_label=1)\n",
    "metrics.auc(fpr, tpr)"
   ]
  },
  {
   "cell_type": "code",
   "execution_count": 82,
   "metadata": {},
   "outputs": [
    {
     "data": {
      "text/plain": [
       "0.8577098674271479"
      ]
     },
     "execution_count": 82,
     "metadata": {},
     "output_type": "execute_result"
    }
   ],
   "source": [
    "#composite score..\n",
    "dataset = pd.DataFrame({'svm': y_pred2, 'log': y_predlog, 'lightgbm':y_pred1}, columns=['svm', 'log','lightgbm'])\n",
    "dataset['composite']  = dataset['svm'] + dataset['log'] + dataset['lightgbm']\n",
    "composite = np.round_(dataset['composite'],0)\n",
    "y = np.array(y_test)\n",
    "pred = np.array(composite)\n",
    "fpr, tpr, thresholds = metrics.roc_curve(y, pred, pos_label=1)\n",
    "metrics.auc(fpr, tpr)"
   ]
  },
  {
   "cell_type": "code",
   "execution_count": 265,
   "metadata": {},
   "outputs": [
    {
     "data": {
      "text/html": [
       "<div>\n",
       "<style scoped>\n",
       "    .dataframe tbody tr th:only-of-type {\n",
       "        vertical-align: middle;\n",
       "    }\n",
       "\n",
       "    .dataframe tbody tr th {\n",
       "        vertical-align: top;\n",
       "    }\n",
       "\n",
       "    .dataframe thead th {\n",
       "        text-align: right;\n",
       "    }\n",
       "</style>\n",
       "<table border=\"1\" class=\"dataframe\">\n",
       "  <thead>\n",
       "    <tr style=\"text-align: right;\">\n",
       "      <th></th>\n",
       "      <th>svm</th>\n",
       "      <th>log</th>\n",
       "      <th>lightgbm</th>\n",
       "    </tr>\n",
       "  </thead>\n",
       "  <tbody>\n",
       "    <tr>\n",
       "      <th>14562842</th>\n",
       "      <td>0</td>\n",
       "      <td>0.0</td>\n",
       "      <td>0.0</td>\n",
       "    </tr>\n",
       "    <tr>\n",
       "      <th>4058658</th>\n",
       "      <td>1</td>\n",
       "      <td>1.0</td>\n",
       "      <td>1.0</td>\n",
       "    </tr>\n",
       "    <tr>\n",
       "      <th>898362</th>\n",
       "      <td>0</td>\n",
       "      <td>0.0</td>\n",
       "      <td>0.0</td>\n",
       "    </tr>\n",
       "    <tr>\n",
       "      <th>8139358</th>\n",
       "      <td>1</td>\n",
       "      <td>1.0</td>\n",
       "      <td>0.0</td>\n",
       "    </tr>\n",
       "    <tr>\n",
       "      <th>11726116</th>\n",
       "      <td>0</td>\n",
       "      <td>0.0</td>\n",
       "      <td>0.0</td>\n",
       "    </tr>\n",
       "  </tbody>\n",
       "</table>\n",
       "</div>"
      ],
      "text/plain": [
       "          svm  log  lightgbm\n",
       "14562842    0  0.0       0.0\n",
       "4058658     1  1.0       1.0\n",
       "898362      0  0.0       0.0\n",
       "8139358     1  1.0       0.0\n",
       "11726116    0  0.0       0.0"
      ]
     },
     "execution_count": 265,
     "metadata": {},
     "output_type": "execute_result"
    }
   ],
   "source": [
    "dataset.head()"
   ]
  },
  {
   "cell_type": "code",
   "execution_count": null,
   "metadata": {},
   "outputs": [],
   "source": [
    "# create composite model\n",
    "#SEQUENCE OF TAGS.... "
   ]
  }
 ],
 "metadata": {
  "kernelspec": {
   "display_name": "Python 3",
   "language": "python",
   "name": "python3"
  },
  "language_info": {
   "codemirror_mode": {
    "name": "ipython",
    "version": 3
   },
   "file_extension": ".py",
   "mimetype": "text/x-python",
   "name": "python",
   "nbconvert_exporter": "python",
   "pygments_lexer": "ipython3",
   "version": "3.6.4"
  }
 },
 "nbformat": 4,
 "nbformat_minor": 4
}
